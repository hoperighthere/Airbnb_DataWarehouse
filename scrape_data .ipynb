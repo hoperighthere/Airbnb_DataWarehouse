{
 "cells": [
  {
   "cell_type": "code",
   "execution_count": 1,
   "id": "dda5fe24",
   "metadata": {},
   "outputs": [],
   "source": [
    "import requests\n",
    "import os\n",
    "from bs4 import BeautifulSoup"
   ]
  },
  {
   "cell_type": "code",
   "execution_count": 2,
   "id": "0f5add84",
   "metadata": {},
   "outputs": [],
   "source": [
    "url = \"http://insideairbnb.com/get-the-data/\"\n",
    "page = requests.get(url)\n",
    "output_directory = \"./Airbnb_data\""
   ]
  },
  {
   "cell_type": "code",
   "execution_count": 3,
   "id": "74033e55",
   "metadata": {},
   "outputs": [],
   "source": [
    "soup = BeautifulSoup(page.content,\"html.parser\")"
   ]
  },
  {
   "cell_type": "code",
   "execution_count": 4,
   "id": "0b7efd27",
   "metadata": {},
   "outputs": [],
   "source": [
    "# Create the directory if it does not exist\n",
    "if not os.path.exists(output_directory):\n",
    "    os.makedirs(output_directory)"
   ]
  },
  {
   "cell_type": "code",
   "execution_count": null,
   "id": "cb5aba41",
   "metadata": {},
   "outputs": [
    {
     "name": "stdout",
     "output_type": "stream",
     "text": [
      "--2024-02-23 19:28:12--  http://data.insideairbnb.com/spain/catalonia/barcelona/2023-12-13/data/listings.csv.gz\n",
      "Resolving data.insideairbnb.com (data.insideairbnb.com)... 52.216.25.187, 52.217.122.85, 16.182.39.141, ...\n",
      "Connecting to data.insideairbnb.com (data.insideairbnb.com)|52.216.25.187|:80... connected.\n",
      "HTTP request sent, awaiting response... 200 OK\n",
      "Length: 6191489 (5.9M) [application/x-gzip]\n",
      "Saving to: ‘./Airbnb_data/listings.csv.gz’\n",
      "\n",
      "listings.csv.gz     100%[===================>]   5.90M  72.9KB/s    in 83s     \n",
      "\n",
      "2024-02-23 19:29:36 (72.8 KB/s) - ‘./Airbnb_data/listings.csv.gz’ saved [6191489/6191489]\n",
      "\n",
      "--2024-02-23 19:29:36--  http://data.insideairbnb.com/spain/catalonia/barcelona/2023-12-13/data/calendar.csv.gz\n",
      "Resolving data.insideairbnb.com (data.insideairbnb.com)... 52.216.40.109, 52.216.136.98, 54.231.204.173, ...\n",
      "Connecting to data.insideairbnb.com (data.insideairbnb.com)|52.216.40.109|:80... connected.\n",
      "HTTP request sent, awaiting response... 200 OK\n",
      "Length: 16731643 (16M) [application/x-gzip]\n",
      "Saving to: ‘./Airbnb_data/calendar.csv.gz’\n",
      "\n",
      "calendar.csv.gz     100%[===================>]  15.96M   141KB/s    in 3m 6s   \n",
      "\n",
      "2024-02-23 19:32:42 (87.9 KB/s) - ‘./Airbnb_data/calendar.csv.gz’ saved [16731643/16731643]\n",
      "\n",
      "--2024-02-23 19:32:42--  http://data.insideairbnb.com/spain/catalonia/barcelona/2023-12-13/data/reviews.csv.gz\n",
      "Resolving data.insideairbnb.com (data.insideairbnb.com)... 54.231.230.125, 52.217.225.245, 52.217.104.99, ...\n",
      "Connecting to data.insideairbnb.com (data.insideairbnb.com)|54.231.230.125|:80... connected.\n",
      "HTTP request sent, awaiting response... 200 OK\n",
      "Length: 105360751 (100M) [application/x-gzip]\n",
      "Saving to: ‘./Airbnb_data/reviews.csv.gz’\n",
      "\n",
      "reviews.csv.gz      100%[===================>] 100.48M   677KB/s    in 9m 14s  \n",
      "\n",
      "2024-02-23 19:41:58 (186 KB/s) - ‘./Airbnb_data/reviews.csv.gz’ saved [105360751/105360751]\n",
      "\n",
      "--2024-02-23 19:41:58--  http://data.insideairbnb.com/spain/catalonia/barcelona/2023-12-13/visualisations/listings.csv\n",
      "Resolving data.insideairbnb.com (data.insideairbnb.com)... 52.216.93.218, 52.216.212.213, 52.217.233.29, ...\n",
      "Connecting to data.insideairbnb.com (data.insideairbnb.com)|52.216.93.218|:80... connected.\n",
      "HTTP request sent, awaiting response... 200 OK\n",
      "Length: 3720122 (3.5M) [application/csv]\n",
      "Saving to: ‘./Airbnb_data/listings.csv’\n",
      "\n",
      "listings.csv        100%[===================>]   3.55M   656KB/s    in 5.9s    \n",
      "\n",
      "2024-02-23 19:42:04 (617 KB/s) - ‘./Airbnb_data/listings.csv’ saved [3720122/3720122]\n",
      "\n",
      "--2024-02-23 19:42:05--  http://data.insideairbnb.com/spain/catalonia/barcelona/2023-12-13/visualisations/reviews.csv\n",
      "Resolving data.insideairbnb.com (data.insideairbnb.com)... 52.216.58.181, 52.216.61.125, 52.217.129.125, ...\n",
      "Connecting to data.insideairbnb.com (data.insideairbnb.com)|52.216.58.181|:80... connected.\n",
      "HTTP request sent, awaiting response... 200 OK\n",
      "Length: 16377196 (16M) [application/csv]\n",
      "Saving to: ‘./Airbnb_data/reviews.csv’\n",
      "\n",
      "reviews.csv          72%[=============>      ]  11.37M   111KB/s    eta 30s    "
     ]
    }
   ],
   "source": [
    "# Find all <h3> tags\n",
    "for h3_tag in soup.find_all('h3'):\n",
    "    \n",
    "    # Check if the text inside the <h3> tag contains the specific string\n",
    "    if h3_tag.text == \"Barcelona, Catalonia, Spain\":\n",
    "        # Find all anchor tags (<a>) within the <h3> tag\n",
    "        for link in h3_tag.find_next_sibling().find_next_sibling().find_all('a'):\n",
    "            !wget -P $output_directory {link['href']}\n",
    "        \n"
   ]
  },
  {
   "cell_type": "code",
   "execution_count": null,
   "id": "65f3c0bf",
   "metadata": {},
   "outputs": [],
   "source": []
  },
  {
   "cell_type": "code",
   "execution_count": null,
   "id": "120eede7",
   "metadata": {},
   "outputs": [],
   "source": []
  }
 ],
 "metadata": {
  "kernelspec": {
   "display_name": "Python 3 (ipykernel)",
   "language": "python",
   "name": "python3"
  },
  "language_info": {
   "codemirror_mode": {
    "name": "ipython",
    "version": 3
   },
   "file_extension": ".py",
   "mimetype": "text/x-python",
   "name": "python",
   "nbconvert_exporter": "python",
   "pygments_lexer": "ipython3",
   "version": "3.11.4"
  }
 },
 "nbformat": 4,
 "nbformat_minor": 5
}
